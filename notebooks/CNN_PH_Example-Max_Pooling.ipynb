{
 "cells": [
  {
   "cell_type": "code",
   "execution_count": 1,
   "metadata": {},
   "outputs": [],
   "source": [
    "import os\n",
    "os.chdir('..')\n",
    "\n",
    "import networkx as nx\n",
    "import torch\n",
    "import torchvision.transforms as transforms\n",
    "import torchvision.datasets as datasets\n",
    "import torch.nn.functional as F\n",
    "import numpy as np\n",
    "import scipy.sparse\n",
    "import matplotlib.pyplot as plt\n",
    "from archs.mnist.LeNet5 import LeNet5\n",
    "\n",
    "import persim # see persim.scikit-tda.org\n",
    "from ripser import ripser # see ripser.scikit-tda.org"
   ]
  },
  {
   "cell_type": "markdown",
   "metadata": {},
   "source": [
    "To generate the model used in this example, I ran:\n",
    "\n",
    "`python main.py --arch_type lenet5 --dataset mnist --prune_percent 90 --prune_iterations 2 --end_iter 20`"
   ]
  },
  {
   "cell_type": "code",
   "execution_count": 2,
   "metadata": {},
   "outputs": [],
   "source": [
    "# Global-like variable definitions.\n",
    "model_name = 'lenet5'\n",
    "dataset_name = 'mnist'\n",
    "data_location = '../data' # location of training data (MNIST, FashionMNIST, CIFAR, etc.)\n",
    "msk_pct = 90 # prune percentage for LT network\n",
    "model_loc0 = 'saves/{}/{}/0_model_lt.pth.tar'.format(model_name, dataset_name) # location of saved, un-pruned model \n",
    "model_loc1 = 'saves/{}/{}/1_model_lt.pth.tar'.format(model_name, dataset_name) # location of saved, pruned model (after 1 prune iteration)"
   ]
  },
  {
   "cell_type": "markdown",
   "metadata": {},
   "source": [
    "## Unpruned Model Homology"
   ]
  },
  {
   "cell_type": "code",
   "execution_count": 3,
   "metadata": {},
   "outputs": [],
   "source": [
    "# load the model.\n",
    "model = torch.load(model_loc0)"
   ]
  },
  {
   "cell_type": "code",
   "execution_count": 4,
   "metadata": {},
   "outputs": [
    {
     "name": "stdout",
     "output_type": "stream",
     "text": [
      "Parameter Shape:  (64, 1, 3, 3)\n",
      "Parameter Shape:  (64, 64, 3, 3)\n",
      "Parameter Shape:  (256, 12544)\n",
      "Parameter Shape:  (256, 256)\n",
      "Parameter Shape:  (10, 256)\n"
     ]
    }
   ],
   "source": [
    "ln5 = LeNet5()\n",
    "\n",
    "# access model params and add to list `params`. We are ignoring bias weights for now.\n",
    "params = []\n",
    "for name, param in model.named_parameters():\n",
    "    if 'weight' in name:\n",
    "        pnum = param.data.cpu().numpy()\n",
    "        print('Parameter Shape: ', pnum.shape)\n",
    "        params.append(pnum)\n",
    "\n",
    "# add weights to conv and linear layer param info dict\n",
    "param_info = ln5.param_info\n",
    "for i in range(len(param_info)):\n",
    "    p = param_info[i]\n",
    "    if p['layer_type'] == 'Conv2d' or p['layer_type'] == 'Linear':\n",
    "        p['param'] = params[i]\n",
    "    else:\n",
    "        p['param'] = None"
   ]
  },
  {
   "cell_type": "code",
   "execution_count": null,
   "metadata": {},
   "outputs": [],
   "source": []
  },
  {
   "cell_type": "code",
   "execution_count": 5,
   "metadata": {},
   "outputs": [],
   "source": [
    "# expected size of input layer\n",
    "input_size = (1,1,28,28)"
   ]
  },
  {
   "cell_type": "code",
   "execution_count": 6,
   "metadata": {},
   "outputs": [],
   "source": [
    "def get_im2col_indices(x_shape, field_height, field_width, padding=1, stride=1):\n",
    "    # First figure out what the size of the output should be\n",
    "    N, C, H, W = x_shape\n",
    "    assert (H + 2 * padding - field_height) % stride == 0\n",
    "    assert (W + 2 * padding - field_height) % stride == 0\n",
    "    out_height = int((H + 2 * padding - field_height) / stride + 1)\n",
    "    out_width = int((W + 2 * padding - field_width) / stride + 1)\n",
    "\n",
    "    i0 = np.repeat(np.arange(field_height), field_width)\n",
    "    i0 = np.tile(i0, C)\n",
    "    i1 = stride * np.repeat(np.arange(out_height), out_width)\n",
    "    j0 = np.tile(np.arange(field_width), field_height * C)\n",
    "    j1 = stride * np.tile(np.arange(out_width), out_height)\n",
    "    i = i0.reshape(-1, 1) + i1.reshape(1, -1)\n",
    "    j = j0.reshape(-1, 1) + j1.reshape(1, -1)\n",
    "\n",
    "    k = np.repeat(np.arange(C), field_height * field_width).reshape(-1, 1)\n",
    "\n",
    "    return (k.astype(int), i.astype(int), j.astype(int))\n",
    "\n",
    "def im2col_indices(x, field_height, field_width, padding=1, stride=1):\n",
    "    \"\"\" An implementation of im2col based on some fancy indexing \"\"\"\n",
    "    # Zero-pad the input\n",
    "    p = padding\n",
    "    x_padded = np.pad(x, ((0, 0), (0, 0), (p, p), (p, p)), mode='constant')\n",
    "\n",
    "    k, i, j = get_im2col_indices(x.shape, field_height, field_width, padding, stride)\n",
    "\n",
    "    cols = x_padded[:, k, i, j]\n",
    "    C = x.shape[1]\n",
    "    cols = cols.transpose(1, 2, 0).reshape(field_height * field_width * C, -1)\n",
    "    return cols\n",
    "\n",
    "def col2im_indices(cols, x_shape, field_height=3, field_width=3, padding=1,\n",
    "                   stride=1):\n",
    "    \"\"\" An implementation of col2im based on fancy indexing and np.add.at \"\"\"\n",
    "    N, C, H, W = x_shape\n",
    "    H_padded, W_padded = H + 2 * padding, W + 2 * padding\n",
    "    x_padded = np.zeros((N, C, H_padded, W_padded), dtype=cols.dtype)\n",
    "    k, i, j = get_im2col_indices(x_shape, field_height, field_width, padding, stride)\n",
    "    cols_reshaped = cols.reshape(C * field_height * field_width, -1, N)\n",
    "    cols_reshaped = cols_reshaped.transpose(2, 0, 1)\n",
    "    np.add.at(x_padded, (slice(None), k, i, j), cols_reshaped)\n",
    "    if padding == 0:\n",
    "        return x_padded\n",
    "    return x_padded[:, :, padding:-padding, padding:-padding]\n",
    "\n",
    "def conv_layer_as_matrix(X, X_names, W, stride, padding):\n",
    "    n_filters, d_filter, h_filter, w_filter = W.shape\n",
    "    n_x, d_x, h_x, w_x = X.shape\n",
    "    h_out = (h_x - h_filter + 2 * padding) / stride + 1\n",
    "    w_out = (w_x - w_filter + 2 * padding) / stride + 1\n",
    "    \n",
    "    X_col = im2col_indices(X, h_filter, w_filter, padding=padding, stride=stride)\n",
    "    X_names_col = im2col_indices(X_names, h_filter, w_filter, padding=padding, stride=stride)\n",
    "    W_col = W.reshape(n_filters, -1)\n",
    "    \n",
    "    out = W_col @ X_col\n",
    "    out = out.reshape(n_filters, int(h_out), int(w_out), n_x)\n",
    "    out = out.transpose(3, 0, 1, 2)\n",
    "    \n",
    "    return out, X_col, W_col, X_names_col\n",
    "\n",
    "def inverse_abs(x):\n",
    "    return np.abs(1/x)\n",
    "\n",
    "def add_conv(G, input_size, p, name_this, name_next, stride, padding, weight_func=inverse_abs, next_linear=False):\n",
    "    '''adds convolutional layer to graph and returns updated graph'''\n",
    "    conv_format = '{}_{}_{}'\n",
    "    input_channels = p.shape[1]\n",
    "    X = np.ones(input_size)\n",
    "    for c in range(input_channels):\n",
    "        print('Channel: {}'.format(c))\n",
    "        X_names = np.arange(X.shape[2]*X.shape[3]).reshape((1,1,X.shape[2],X.shape[3]))\n",
    "        tx = X[:,c,:,:].reshape((X.shape[0],1,X.shape[2],X.shape[3]))\n",
    "        # convert to matrix information\n",
    "        mat, X_col, W_col, xnames = conv_layer_as_matrix(tx,X_names,p[:,c,:,:].reshape((p.shape[0],1,p.shape[2],p.shape[3])),stride,padding)\n",
    "        for f in range(W_col.shape[0]):\n",
    "            for row in range(X_col.shape[0]):\n",
    "                for col in range(X_col.shape[1]):\n",
    "                    v = W_col[f,row]\n",
    "                    if v != 0:\n",
    "                        if next_linear:\n",
    "                            # next layer is linear\n",
    "                            G.add_edge(conv_format.format(name_this,c,xnames[row,col]),conv_format.format(name_next,0,int((X_col.shape[1]*c) + (f*X_col.shape[1]) + col)), weight=weight_func(v))\n",
    "                        else:\n",
    "                            # next layer is conv\n",
    "                            G.add_edge(conv_format.format(name_this,c,xnames[row,col]),conv_format.format(name_next,f,col), weight=weight_func(v))\n",
    "    input_size = mat.shape\n",
    "    return G, input_size\n",
    "\n",
    "def add_mp(G, input_size, name_this, name_next, kernel_size, stride, padding, next_linear=False):\n",
    "    '''adds max pooling layer to graph and returns updated graph'''\n",
    "    conv_format = '{}_{}_{}'\n",
    "    p = np.ones((input_size[0],input_size[1],kernel_size[0],kernel_size[1]))\n",
    "    input_channels = p.shape[1]\n",
    "    # next layer also conv\n",
    "    X = np.ones(input_size)\n",
    "    for c in range(input_channels):\n",
    "        print('Channel: {}'.format(c))\n",
    "        X_names = np.arange(X.shape[2]*X.shape[3]).reshape((1,1,X.shape[2],X.shape[3]))\n",
    "        tx = X[:,c,:,:].reshape((X.shape[0],1,X.shape[2],X.shape[3]))\n",
    "        # convert to matrix information\n",
    "        mat, X_col, W_col, xnames = conv_layer_as_matrix(tx,X_names,p[:,c,:,:].reshape((p.shape[0],1,p.shape[2],p.shape[3])),stride,padding)\n",
    "        for f in range(W_col.shape[0]):\n",
    "            for row in range(X_col.shape[0]):\n",
    "                for col in range(X_col.shape[1]):\n",
    "                    node_name = conv_format.format(name_this,c,xnames[row,col])\n",
    "                    ews = sorted(G.in_edges(node_name, data=True), key=lambda x: x[2]['weight'])\n",
    "                    if len(ews) > 0:\n",
    "                        v = ews[0][2]['weight']\n",
    "                        if v != 0:\n",
    "                            if next_linear:\n",
    "                                G.add_edge(conv_format.format(name_this,c,xnames[row,col]),conv_format.format(name_next,0,int((X_col.shape[1]*c) + (f*X_col.shape[1]) + col)), weight=v)\n",
    "                            else:\n",
    "                                G.add_edge(conv_format.format(name_this,c,xnames[row,col]),conv_format.format(name_next,f,col), weight=v)\n",
    "    input_size = mat.shape\n",
    "    return G, input_size\n",
    "\n",
    "def add_linear_linear(G, p, name_this, name_next, weight_func=inverse_abs):\n",
    "    '''adds linear layer to graph and returns updated graph'''\n",
    "    conv_format = '{}_{}_{}'\n",
    "    for row in range(p.shape[1]):\n",
    "        for col in range(p.shape[0]):\n",
    "            v = p[col,row]\n",
    "            if v != 0:\n",
    "                G.add_edge(conv_format.format(name_this,0,row),conv_format.format(name_next,0,col), weight=weight_func(v))\n",
    "    return G\n",
    "\n",
    "def to_directed_networkx(params, input_size):\n",
    "    # store all network info here\n",
    "    G = nx.DiGraph()\n",
    "    \n",
    "    # bookkeeping matrix for pooling layers\n",
    "    mat = None\n",
    "    \n",
    "    # assume last layer linear \n",
    "    for l in range(len(params)-1):\n",
    "        \n",
    "        param = params[l]\n",
    "        # need to look ahead at next layer to get naming correct\n",
    "        param_next = params[l+1]\n",
    "        \n",
    "        print('Layer: {}'.format(param['name']))\n",
    "        \n",
    "        if param['layer_type'] == 'Conv2d':\n",
    "            \n",
    "            if param_next['layer_type'] == 'Conv2d' or param_next['layer_type'] == 'MaxPool2d':\n",
    "                \n",
    "                G, input_size = add_conv(G, input_size, param['param'], param['name'], param_next['name'], param['stride'], param['padding'], next_linear=False)\n",
    "                \n",
    "            elif param_next['layer_type'] == 'Linear':\n",
    "                \n",
    "                G, input_size = add_conv(G, input_size, param['param'], param['name'], param_next['name'], param['stride'], param['padding'], next_linear=True)\n",
    "                \n",
    "        elif param['layer_type'] == 'MaxPool2d':\n",
    "            \n",
    "            if param_next['layer_type'] == 'Conv2d':\n",
    "                \n",
    "                G, input_size = add_mp(G, input_size, param['name'], param_next['name'], param['kernel_size'], param['stride'], param['padding'], next_linear=False)\n",
    "                \n",
    "            if param_next['layer_type'] == 'Linear':\n",
    "                \n",
    "                G, input_size = add_mp(G, input_size, param['name'], param_next['name'], param['kernel_size'], param['stride'], param['padding'], next_linear=True)\n",
    "                \n",
    "        elif param['layer_type'] == 'Linear':\n",
    "            # linear layer\n",
    "            G = add_linear_linear(G, param['param'], param['name'], param_next['name'])\n",
    "            \n",
    "        else:\n",
    "            raise ValueError('Layer type not implemented ')\n",
    "            \n",
    "    # add in last layer\n",
    "    print('Layer: {}'.format(params[-1]['name']))\n",
    "    G = add_linear_linear(G, params[-1]['param'], params[-1]['name'], 'Output')\n",
    "    \n",
    "    return G\n",
    "\n",
    "\n",
    "# helper function for testing model, outputs accuracy\n",
    "def test(model, test_loader, criterion):\n",
    "    device = torch.device(\"cuda\" if torch.cuda.is_available() else \"cpu\")\n",
    "    model.eval()\n",
    "    test_loss = 0\n",
    "    correct = 0\n",
    "    with torch.no_grad():\n",
    "        for data, target in test_loader:\n",
    "            data, target = data.to(device), target.to(device)\n",
    "            output = model(data)\n",
    "            test_loss += F.nll_loss(output, target, reduction='sum').item()  # sum up batch loss\n",
    "            pred = output.data.max(1, keepdim=True)[1]  # get the index of the max log-probability\n",
    "            correct += pred.eq(target.data.view_as(pred)).sum().item()\n",
    "        test_loss /= len(test_loader.dataset)\n",
    "        accuracy = 100. * correct / len(test_loader.dataset)\n",
    "    return accuracy"
   ]
  },
  {
   "cell_type": "code",
   "execution_count": 7,
   "metadata": {
    "scrolled": true
   },
   "outputs": [
    {
     "name": "stdout",
     "output_type": "stream",
     "text": [
      "Layer: Conv1\n",
      "Channel: 0\n",
      "Layer: Conv2\n",
      "Channel: 0\n",
      "Channel: 1\n",
      "Channel: 2\n",
      "Channel: 3\n",
      "Channel: 4\n",
      "Channel: 5\n",
      "Channel: 6\n",
      "Channel: 7\n",
      "Channel: 8\n",
      "Channel: 9\n",
      "Channel: 10\n",
      "Channel: 11\n",
      "Channel: 12\n",
      "Channel: 13\n",
      "Channel: 14\n",
      "Channel: 15\n",
      "Channel: 16\n",
      "Channel: 17\n",
      "Channel: 18\n",
      "Channel: 19\n",
      "Channel: 20\n",
      "Channel: 21\n",
      "Channel: 22\n",
      "Channel: 23\n",
      "Channel: 24\n",
      "Channel: 25\n",
      "Channel: 26\n",
      "Channel: 27\n",
      "Channel: 28\n",
      "Channel: 29\n",
      "Channel: 30\n",
      "Channel: 31\n",
      "Channel: 32\n",
      "Channel: 33\n",
      "Channel: 34\n",
      "Channel: 35\n",
      "Channel: 36\n",
      "Channel: 37\n",
      "Channel: 38\n",
      "Channel: 39\n",
      "Channel: 40\n",
      "Channel: 41\n",
      "Channel: 42\n",
      "Channel: 43\n",
      "Channel: 44\n",
      "Channel: 45\n",
      "Channel: 46\n",
      "Channel: 47\n",
      "Channel: 48\n",
      "Channel: 49\n",
      "Channel: 50\n",
      "Channel: 51\n",
      "Channel: 52\n",
      "Channel: 53\n",
      "Channel: 54\n",
      "Channel: 55\n",
      "Channel: 56\n",
      "Channel: 57\n",
      "Channel: 58\n",
      "Channel: 59\n",
      "Channel: 60\n",
      "Channel: 61\n",
      "Channel: 62\n",
      "Channel: 63\n",
      "Layer: MaxPool1\n",
      "Channel: 0\n",
      "Channel: 1\n",
      "Channel: 2\n",
      "Channel: 3\n",
      "Channel: 4\n",
      "Channel: 5\n",
      "Channel: 6\n",
      "Channel: 7\n",
      "Channel: 8\n",
      "Channel: 9\n",
      "Channel: 10\n",
      "Channel: 11\n",
      "Channel: 12\n",
      "Channel: 13\n",
      "Channel: 14\n",
      "Channel: 15\n",
      "Channel: 16\n",
      "Channel: 17\n",
      "Channel: 18\n",
      "Channel: 19\n",
      "Channel: 20\n",
      "Channel: 21\n",
      "Channel: 22\n",
      "Channel: 23\n",
      "Channel: 24\n",
      "Channel: 25\n",
      "Channel: 26\n",
      "Channel: 27\n",
      "Channel: 28\n",
      "Channel: 29\n",
      "Channel: 30\n",
      "Channel: 31\n",
      "Channel: 32\n",
      "Channel: 33\n",
      "Channel: 34\n",
      "Channel: 35\n",
      "Channel: 36\n",
      "Channel: 37\n",
      "Channel: 38\n",
      "Channel: 39\n",
      "Channel: 40\n",
      "Channel: 41\n",
      "Channel: 42\n",
      "Channel: 43\n",
      "Channel: 44\n",
      "Channel: 45\n",
      "Channel: 46\n",
      "Channel: 47\n",
      "Channel: 48\n",
      "Channel: 49\n",
      "Channel: 50\n",
      "Channel: 51\n",
      "Channel: 52\n",
      "Channel: 53\n",
      "Channel: 54\n",
      "Channel: 55\n",
      "Channel: 56\n",
      "Channel: 57\n",
      "Channel: 58\n",
      "Channel: 59\n",
      "Channel: 60\n",
      "Channel: 61\n",
      "Channel: 62\n",
      "Channel: 63\n",
      "Layer: Linear1\n",
      "Layer: Linear2\n"
     ]
    }
   ],
   "source": [
    "# this will take a while for a network with a lot of channels...\n",
    "# look into parallelizing this\n",
    "G = to_directed_networkx(param_info, input_size)"
   ]
  },
  {
   "cell_type": "code",
   "execution_count": null,
   "metadata": {},
   "outputs": [],
   "source": []
  },
  {
   "cell_type": "code",
   "execution_count": 8,
   "metadata": {},
   "outputs": [
    {
     "name": "stdout",
     "output_type": "stream",
     "text": [
      "Accuracy: 97.76\n"
     ]
    }
   ],
   "source": [
    "# Test to make sure model works.\n",
    "transform=transforms.Compose([transforms.ToTensor(),transforms.Normalize((0.1307,), (0.3081,))])\n",
    "testdataset = datasets.MNIST(data_location, train=False, transform=transform)\n",
    "test_loader = torch.utils.data.DataLoader(testdataset, batch_size=32, shuffle=False, num_workers=0,drop_last=True)\n",
    "criterion = torch.nn.CrossEntropyLoss()\n",
    "print('Accuracy: {}'.format(test(model, test_loader, criterion)))"
   ]
  },
  {
   "cell_type": "code",
   "execution_count": null,
   "metadata": {},
   "outputs": [],
   "source": []
  },
  {
   "cell_type": "code",
   "execution_count": 9,
   "metadata": {},
   "outputs": [
    {
     "data": {
      "text/plain": [
       "['Conv1_0_479',\n",
       " 'Conv2_28_507',\n",
       " 'MaxPool1_0_508',\n",
       " 'Linear1_0_128',\n",
       " 'Linear2_0_175',\n",
       " 'Output_0_8']"
      ]
     },
     "execution_count": 9,
     "metadata": {},
     "output_type": "execute_result"
    }
   ],
   "source": [
    "# out of curiosity...\n",
    "nx.dag_longest_path(G)"
   ]
  },
  {
   "cell_type": "code",
   "execution_count": 10,
   "metadata": {},
   "outputs": [
    {
     "data": {
      "text/plain": [
       "{'dgms': [array([[0.        , 0.76375628],\n",
       "         [0.        , 0.76375628],\n",
       "         [0.        , 0.76375628],\n",
       "         ...,\n",
       "         [0.        ,        inf],\n",
       "         [0.        ,        inf],\n",
       "         [0.        ,        inf]]),\n",
       "  array([[       inf,        inf],\n",
       "         [       inf,        inf],\n",
       "         [       inf,        inf],\n",
       "         ...,\n",
       "         [0.91383654,        inf],\n",
       "         [0.91383654,        inf],\n",
       "         [0.91383654,        inf]])],\n",
       " 'cocycles': [[], []],\n",
       " 'num_edges': 28520919,\n",
       " 'dperm2all': <113946x113946 sparse matrix of type '<class 'numpy.float64'>'\n",
       " \twith 28526911 stored elements in Compressed Sparse Row format>,\n",
       " 'idx_perm': array([     0,      1,      2, ..., 113943, 113944, 113945]),\n",
       " 'r_cover': 0.0}"
      ]
     },
     "execution_count": 10,
     "metadata": {},
     "output_type": "execute_result"
    }
   ],
   "source": [
    "# compute rips persistent homology (up to 1st dimension) over entire network \n",
    "# using (sparse) adjacency matrix as distance matrix.\n",
    "rips = ripser(nx.to_scipy_sparse_matrix(G), distance_matrix=True, maxdim=1)\n",
    "rips"
   ]
  },
  {
   "cell_type": "code",
   "execution_count": 11,
   "metadata": {},
   "outputs": [
    {
     "data": {
      "image/png": "[encoded data removed]",
      "text/plain": [
       "<Figure size 432x288 with 1 Axes>"
      ]
     },
     "metadata": {
      "needs_background": "light"
     },
     "output_type": "display_data"
    }
   ],
   "source": [
    "# plot persistence diagram in dimensions 0 and 1 (on same axes).\n",
    "# points at infinity (homology groups) are plotted on the dotted \n",
    "# line which represents the point \\infty.\n",
    "persim.plot_diagrams(rips['dgms'][0])"
   ]
  },
  {
   "cell_type": "markdown",
   "metadata": {},
   "source": [
    "## Pruned LT Homology"
   ]
  },
  {
   "cell_type": "code",
   "execution_count": 12,
   "metadata": {},
   "outputs": [],
   "source": [
    "# load the LT model.\n",
    "model_lt = torch.load(model_loc1)"
   ]
  },
  {
   "cell_type": "code",
   "execution_count": 13,
   "metadata": {},
   "outputs": [
    {
     "name": "stdout",
     "output_type": "stream",
     "text": [
      "Parameter Shape:  (64, 1, 3, 3)\n",
      "Parameter Shape:  (64, 64, 3, 3)\n",
      "Parameter Shape:  (256, 12544)\n",
      "Parameter Shape:  (256, 256)\n",
      "Parameter Shape:  (10, 256)\n"
     ]
    }
   ],
   "source": [
    "ln5 = LeNet5()\n",
    "\n",
    "# access model params and add to list `params`. We are ignoring bias weights for now.\n",
    "params_lt = []\n",
    "for name, param in model_lt.named_parameters():\n",
    "    if 'weight' in name:\n",
    "        pnum = param.data.cpu().numpy()\n",
    "        print('Parameter Shape: ', pnum.shape)\n",
    "        params_lt.append(pnum)\n",
    "        \n",
    "param_info_lt = ln5.param_info\n",
    "for i in range(len(param_info_lt)):\n",
    "    p = param_info_lt[i]\n",
    "    if p['layer_type'] == 'Conv2d' or p['layer_type'] == 'Linear':\n",
    "        p['param'] = params_lt[i]\n",
    "    else:\n",
    "        p['param'] = None"
   ]
  },
  {
   "cell_type": "code",
   "execution_count": 14,
   "metadata": {},
   "outputs": [
    {
     "name": "stdout",
     "output_type": "stream",
     "text": [
      "Accuracy: 97.28\n"
     ]
    }
   ],
   "source": [
    "# test this model's accuracy.\n",
    "print('Accuracy: {}'.format(test(model_lt, test_loader, criterion)))"
   ]
  },
  {
   "cell_type": "code",
   "execution_count": null,
   "metadata": {},
   "outputs": [],
   "source": []
  },
  {
   "cell_type": "code",
   "execution_count": null,
   "metadata": {
    "scrolled": true
   },
   "outputs": [
    {
     "name": "stdout",
     "output_type": "stream",
     "text": [
      "Layer: Conv1\n",
      "Channel: 0\n",
      "Layer: Conv2\n",
      "Channel: 0\n",
      "Channel: 1\n",
      "Channel: 2\n",
      "Channel: 3\n",
      "Channel: 4\n",
      "Channel: 5\n",
      "Channel: 6\n",
      "Channel: 7\n",
      "Channel: 8\n",
      "Channel: 9\n",
      "Channel: 10\n",
      "Channel: 11\n",
      "Channel: 12\n",
      "Channel: 13\n",
      "Channel: 14\n",
      "Channel: 15\n",
      "Channel: 16\n",
      "Channel: 17\n",
      "Channel: 18\n",
      "Channel: 19\n",
      "Channel: 20\n",
      "Channel: 21\n",
      "Channel: 22\n",
      "Channel: 23\n",
      "Channel: 24\n",
      "Channel: 25\n",
      "Channel: 26\n",
      "Channel: 27\n",
      "Channel: 28\n",
      "Channel: 29\n",
      "Channel: 30\n",
      "Channel: 31\n",
      "Channel: 32\n",
      "Channel: 33\n",
      "Channel: 34\n",
      "Channel: 35\n",
      "Channel: 36\n"
     ]
    }
   ],
   "source": [
    "# compute networkx representation of LT NN.\n",
    "G_lt = to_directed_networkx(param_info_lt, input_size)"
   ]
  },
  {
   "cell_type": "code",
   "execution_count": null,
   "metadata": {},
   "outputs": [],
   "source": []
  },
  {
   "cell_type": "code",
   "execution_count": null,
   "metadata": {},
   "outputs": [],
   "source": [
    "# compute rips persistent homology (up to 1st dimension) over entire network \n",
    "# using (sparse) adjacency matrix as distance matrix.\n",
    "rips_lt = ripser(nx.to_scipy_sparse_matrix(G_lt), distance_matrix=True, maxdim=1)\n",
    "rips_lt"
   ]
  },
  {
   "cell_type": "code",
   "execution_count": null,
   "metadata": {},
   "outputs": [],
   "source": [
    "# plot persistence diagram in dimensions 0 and 1 (on same axes).\n",
    "# points at infinity (homology groups) are plotted on the dotted \n",
    "# line which represents the point \\infty.\n",
    "persim.plot_diagrams(rips_lt['dgms'][0])"
   ]
  },
  {
   "cell_type": "markdown",
   "metadata": {},
   "source": [
    "## Compare Networks"
   ]
  },
  {
   "cell_type": "code",
   "execution_count": null,
   "metadata": {},
   "outputs": [],
   "source": [
    "# bottleneck distance is pretty restrictive with large PDs like this..."
   ]
  },
  {
   "cell_type": "code",
   "execution_count": null,
   "metadata": {},
   "outputs": [],
   "source": []
  }
 ],
 "metadata": {
  "kernelspec": {
   "display_name": "Python 3",
   "language": "python",
   "name": "python3"
  },
  "language_info": {
   "codemirror_mode": {
    "name": "ipython",
    "version": 3
   },
   "file_extension": ".py",
   "mimetype": "text/x-python",
   "name": "python",
   "nbconvert_exporter": "python",
   "pygments_lexer": "ipython3",
   "version": "3.6.3"
  }
 },
 "nbformat": 4,
 "nbformat_minor": 4
}
