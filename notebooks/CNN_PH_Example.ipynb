{
 "cells": [
  {
   "cell_type": "code",
   "execution_count": 1,
   "metadata": {},
   "outputs": [],
   "source": [
    "%load_ext autoreload\n",
    "%autoreload 2\n",
    "import os\n",
    "os.chdir('..')"
   ]
  },
  {
   "cell_type": "code",
   "execution_count": 2,
   "metadata": {},
   "outputs": [],
   "source": [
    "import networkx as nx\n",
    "import torch\n",
    "import torchvision.transforms as transforms\n",
    "import torchvision.datasets as datasets\n",
    "import torch.nn.functional as F\n",
    "import numpy as np\n",
    "import scipy.sparse\n",
    "import matplotlib.pyplot as plt\n",
    "from nn_homology import nn_graph\n",
    "\n",
    "import persim # see persim.scikit-tda.org\n",
    "from ripser import ripser # see ripser.scikit-tda.org"
   ]
  },
  {
   "cell_type": "markdown",
   "metadata": {},
   "source": [
    "To generate the model used in this example, I ran:\n",
    "\n",
    "`python main.py --arch_type lenet5_nmp --dataset cifar10 --prune_percent 90 --prune_iterations 2 --end_iter 50`"
   ]
  },
  {
   "cell_type": "code",
   "execution_count": 3,
   "metadata": {},
   "outputs": [],
   "source": [
    "# Global-like variable definitions.\n",
    "model_name = 'lenet5_nmp'\n",
    "dataset_name = 'cifar10'\n",
    "data_location = '../data' # location of training data (MNIST, FashionMNIST, CIFAR, etc.)\n",
    "seed = 42 # prune percentage for LT network\n",
    "model_loc0 = 'remote_saves/{}/{}/{}/0/model_lt_20.pth.tar'.format(model_name, dataset_name, seed) # location of saved, un-pruned model \n",
    "model_loc1 = 'remote_saves/{}/{}/{}/9/model_lt_20.pth.tar'.format(model_name, dataset_name, seed) # location of saved, pruned model (after 1 prune iteration)"
   ]
  },
  {
   "cell_type": "markdown",
   "metadata": {},
   "source": [
    "## Unpruned Model Homology"
   ]
  },
  {
   "cell_type": "code",
   "execution_count": 4,
   "metadata": {},
   "outputs": [],
   "source": [
    "# load the model.\n",
    "model = torch.load(model_loc0)"
   ]
  },
  {
   "cell_type": "code",
   "execution_count": 5,
   "metadata": {},
   "outputs": [],
   "source": [
    "param_info = [{'layer_type': 'Conv2d', 'kernel_size':(5,5), 'stride':1, 'padding': 0, 'name':'Conv1'},\n",
    "                {'layer_type': 'Conv2d', 'kernel_size':(5,5), 'stride':1, 'padding':0, 'name':'Conv2'},\n",
    "                {'layer_type':'Linear', 'name': 'Linear1'},\n",
    "                {'layer_type':'Linear', 'name': 'Linear2'},\n",
    "                {'layer_type':'Linear', 'name': 'Linear3'}]\n",
    "\n",
    "# param_info = [{'layer_type': 'Conv2d', 'kernel_size':(3,3), 'stride':1, 'padding': 1, 'name':'Conv1'},\n",
    "#                             {'layer_type': 'Conv2d', 'kernel_size':(3,3), 'stride':1, 'padding':1, 'name':'Conv2'},\n",
    "#                             {'layer_type':'Conv2d', 'kernel_size':(4,4), 'stride':2, 'padding':1, 'name':'Conv3'},\n",
    "#                             {'layer_type':'Linear', 'name': 'Linear1'},\n",
    "#                             {'layer_type':'Linear', 'name': 'Linear2'},\n",
    "#                            {'layer_type': 'Linear', 'name': 'Linear3'}]"
   ]
  },
  {
   "cell_type": "code",
   "execution_count": 6,
   "metadata": {},
   "outputs": [],
   "source": [
    "NNG = nn_graph.NNGraph()\n",
    "NNG.parameter_graph(model, param_info, (1,3,32,32), ignore_zeros=True)"
   ]
  },
  {
   "cell_type": "code",
   "execution_count": null,
   "metadata": {},
   "outputs": [],
   "source": []
  },
  {
   "cell_type": "code",
   "execution_count": 7,
   "metadata": {},
   "outputs": [],
   "source": [
    "# helper function for testing model, outputs accuracy\n",
    "def test(model, test_loader, criterion):\n",
    "    device = torch.device(\"cuda\" if torch.cuda.is_available() else \"cpu\")\n",
    "    model.eval()\n",
    "    test_loss = 0\n",
    "    correct = 0\n",
    "    with torch.no_grad():\n",
    "        for data, target in test_loader:\n",
    "            data, target = data.to(device), target.to(device)\n",
    "            output = model(data)\n",
    "            test_loss += F.nll_loss(output, target, reduction='sum').item()  # sum up batch loss\n",
    "            pred = output.data.max(1, keepdim=True)[1]  # get the index of the max log-probability\n",
    "            correct += pred.eq(target.data.view_as(pred)).sum().item()\n",
    "        test_loss /= len(test_loader.dataset)\n",
    "        accuracy = 100. * correct / len(test_loader.dataset)\n",
    "    return accuracy"
   ]
  },
  {
   "cell_type": "code",
   "execution_count": 8,
   "metadata": {},
   "outputs": [
    {
     "name": "stdout",
     "output_type": "stream",
     "text": [
      "Accuracy: 53.92\n"
     ]
    }
   ],
   "source": [
    "# Test to make sure model works.\n",
    "transform=transforms.Compose([transforms.ToTensor(),transforms.Normalize((0.1307,), (0.3081,))])\n",
    "testdataset = datasets.CIFAR10(data_location, train=False, transform=transform)\n",
    "test_loader = torch.utils.data.DataLoader(testdataset, batch_size=32, shuffle=False, num_workers=0,drop_last=True)\n",
    "criterion = torch.nn.CrossEntropyLoss()\n",
    "print('Accuracy: {}'.format(test(model, test_loader, criterion)))"
   ]
  },
  {
   "cell_type": "code",
   "execution_count": 9,
   "metadata": {},
   "outputs": [],
   "source": [
    "def sparse_min_row(csr_mat):\n",
    "    ret = np.zeros(csr_mat.shape[0])\n",
    "    ret[np.diff(csr_mat.indptr) != 0] = np.minimum.reduceat(csr_mat.data,csr_mat.indptr[:-1][np.diff(csr_mat.indptr)>0])\n",
    "    return ret"
   ]
  },
  {
   "cell_type": "code",
   "execution_count": 10,
   "metadata": {},
   "outputs": [
    {
     "name": "stderr",
     "output_type": "stream",
     "text": [
      "/home/schraterlab/anaconda3/lib/python3.8/site-packages/scipy/sparse/_index.py:126: SparseEfficiencyWarning: Changing the sparsity structure of a csr_matrix is expensive. lil_matrix is more efficient.\n",
      "  self._set_arrayXarray(i, j, x)\n"
     ]
    },
    {
     "name": "stdout",
     "output_type": "stream",
     "text": [
      "CPU times: user 3.62 s, sys: 11.6 ms, total: 3.63 s\n",
      "Wall time: 3.62 s\n"
     ]
    },
    {
     "data": {
      "text/plain": [
       "{'dgms': [array([[0.45414579, 0.4790369 ],\n",
       "         [0.45414579, 0.4790369 ],\n",
       "         [0.45414579, 0.4790369 ],\n",
       "         ...,\n",
       "         [0.64527535, 0.82055813],\n",
       "         [0.64527535, 0.8251431 ],\n",
       "         [0.41363642,        inf]]),\n",
       "  array([[1.        ,        inf],\n",
       "         [1.        ,        inf],\n",
       "         [1.        ,        inf],\n",
       "         ...,\n",
       "         [0.55907553,        inf],\n",
       "         [0.55907553,        inf],\n",
       "         [0.54431885,        inf]])],\n",
       " 'cocycles': [[], []],\n",
       " 'num_edges': 434884,\n",
       " 'dperm2all': <20038x20038 sparse matrix of type '<class 'numpy.float64'>'\n",
       " \twith 889806 stored elements in Compressed Sparse Row format>,\n",
       " 'idx_perm': array([    0,     1,     2, ..., 20035, 20036, 20037]),\n",
       " 'r_cover': 0.0}"
      ]
     },
     "execution_count": 10,
     "metadata": {},
     "output_type": "execute_result"
    }
   ],
   "source": [
    "# compute rips persistent homology (up to 1st dimension) over entire network \n",
    "# using (sparse) adjacency matrix as distance matrix.\n",
    "\n",
    "def sparse_min_row(csr_mat):\n",
    "    ret = np.zeros(csr_mat.shape[0])\n",
    "    ret[np.diff(csr_mat.indptr) != 0] = np.minimum.reduceat(csr_mat.data,csr_mat.indptr[:-1][np.diff(csr_mat.indptr)>0])\n",
    "    return ret\n",
    "\n",
    "sps = nx.to_scipy_sparse_matrix(NNG.G)\n",
    "mrs = sparse_min_row(sps)\n",
    "sps.setdiag(mrs)\n",
    "\n",
    "\n",
    "%time rips = ripser(sps, distance_matrix=True, maxdim=1)\n",
    "rips"
   ]
  },
  {
   "cell_type": "code",
   "execution_count": null,
   "metadata": {},
   "outputs": [],
   "source": []
  },
  {
   "cell_type": "code",
   "execution_count": 11,
   "metadata": {},
   "outputs": [
    {
     "data": {
      "image/png": "[encoded data removed]",
      "text/plain": [
       "<Figure size 432x288 with 1 Axes>"
      ]
     },
     "metadata": {
      "needs_background": "light"
     },
     "output_type": "display_data"
    }
   ],
   "source": [
    "# plot persistence diagram in dimensions 0 and 1 (on same axes).\n",
    "# points at infinity (homology groups) are plotted on the dotted \n",
    "# line which represents the point \\infty.\n",
    "persim.plot_diagrams(rips['dgms'][0])"
   ]
  },
  {
   "cell_type": "markdown",
   "metadata": {},
   "source": [
    "## Pruned LT Homology"
   ]
  },
  {
   "cell_type": "code",
   "execution_count": 12,
   "metadata": {},
   "outputs": [],
   "source": [
    "# load the LT model.\n",
    "model_lt = torch.load(model_loc1)"
   ]
  },
  {
   "cell_type": "code",
   "execution_count": 13,
   "metadata": {},
   "outputs": [
    {
     "name": "stdout",
     "output_type": "stream",
     "text": [
      "Accuracy: 42.55\n"
     ]
    }
   ],
   "source": [
    "# test this model's accuracy.\n",
    "print('Accuracy: {}'.format(test(model_lt, test_loader, criterion)))"
   ]
  },
  {
   "cell_type": "code",
   "execution_count": 14,
   "metadata": {},
   "outputs": [],
   "source": [
    "NNGLT = nn_graph.NNGraph()\n",
    "NNGLT.parameter_graph(model_lt, param_info, (1,3,32,32), ignore_zeros=True)"
   ]
  },
  {
   "cell_type": "code",
   "execution_count": 15,
   "metadata": {},
   "outputs": [
    {
     "name": "stderr",
     "output_type": "stream",
     "text": [
      "/home/schraterlab/anaconda3/lib/python3.8/site-packages/scipy/sparse/_index.py:126: SparseEfficiencyWarning: Changing the sparsity structure of a csr_matrix is expensive. lil_matrix is more efficient.\n",
      "  self._set_arrayXarray(i, j, x)\n"
     ]
    },
    {
     "name": "stdout",
     "output_type": "stream",
     "text": [
      "CPU times: user 112 ms, sys: 3.88 ms, total: 116 ms\n",
      "Wall time: 116 ms\n"
     ]
    },
    {
     "data": {
      "text/plain": [
       "{'dgms': [array([[0.38971883, 0.39451551],\n",
       "         [0.37211487, 0.41403762],\n",
       "         [0.36808315, 0.41433784],\n",
       "         ...,\n",
       "         [0.58740467,        inf],\n",
       "         [0.86895448,        inf],\n",
       "         [0.28295627,        inf]]),\n",
       "  array([[1.        ,        inf],\n",
       "         [1.        ,        inf],\n",
       "         [1.        ,        inf],\n",
       "         ...,\n",
       "         [0.47797388,        inf],\n",
       "         [0.44016632,        inf],\n",
       "         [0.42168275,        inf]])],\n",
       " 'cocycles': [[], []],\n",
       " 'num_edges': 37270,\n",
       " 'dperm2all': <17767x17767 sparse matrix of type '<class 'numpy.float64'>'\n",
       " \twith 92307 stored elements in Compressed Sparse Row format>,\n",
       " 'idx_perm': array([    0,     1,     2, ..., 17764, 17765, 17766]),\n",
       " 'r_cover': 0.0}"
      ]
     },
     "execution_count": 15,
     "metadata": {},
     "output_type": "execute_result"
    }
   ],
   "source": [
    "# compute rips persistent homology (up to 1st dimension) over entire network \n",
    "# using (sparse) adjacency matrix as distance matrix.\n",
    "sps = nx.to_scipy_sparse_matrix(NNGLT.G)\n",
    "mrs = sparse_min_row(sps)\n",
    "sps.setdiag(mrs)\n",
    "%time rips_lt = ripser(sps, distance_matrix=True, maxdim=1)\n",
    "rips_lt"
   ]
  },
  {
   "cell_type": "code",
   "execution_count": 16,
   "metadata": {},
   "outputs": [
    {
     "data": {
      "image/png": "[encoded data removed]",
      "text/plain": [
       "<Figure size 640x480 with 1 Axes>"
      ]
     },
     "metadata": {},
     "output_type": "display_data"
    }
   ],
   "source": [
    "# plot persistence diagram in dimensions 0 and 1 (on same axes).\n",
    "# points at infinity (homology groups) are plotted on the dotted \n",
    "# line which represents the point \\infty.\n",
    "persim.plot_diagrams(rips_lt['dgms'][0])"
   ]
  },
  {
   "cell_type": "code",
   "execution_count": null,
   "metadata": {},
   "outputs": [],
   "source": []
  },
  {
   "cell_type": "markdown",
   "metadata": {},
   "source": [
    "## Compare Networks"
   ]
  },
  {
   "cell_type": "code",
   "execution_count": 17,
   "metadata": {},
   "outputs": [],
   "source": [
    "# compute the bottleneck distance between networks and plot the implicit matching. \n",
    "# bottleneck distance is defined as the distance between the farthest-apart matched points. \n",
    "# NOTE: the persim package ignores points at infinity, so this calculation still returns \n",
    "# a bounded result. Technically, the bottleneck distance between the two networks is \\infty. \n",
    "# %time distance_bottleneck = persim.bottleneck(rips['dgms'][0], rips_lt['dgms'][0], matching=False)\n",
    "# persim.bottleneck_matching(rips['dgms'][0], rips_lt['dgms'][0], matching, D, labels=['FC $H_0$', 'LT $H_0$'])\n",
    "# print('Bottleneck Distance: {}'.format(distance_bottleneck))\n",
    "# %time sliced = persim.sliced_wasserstein(rips['dgms'][0], rips_lt['dgms'][0])"
   ]
  }
 ],
 "metadata": {
  "kernelspec": {
   "display_name": "Python 3",
   "language": "python",
   "name": "python3"
  },
  "language_info": {
   "codemirror_mode": {
    "name": "ipython",
    "version": 3
   },
   "file_extension": ".py",
   "mimetype": "text/x-python",
   "name": "python",
   "nbconvert_exporter": "python",
   "pygments_lexer": "ipython3",
   "version": "3.8.2"
  }
 },
 "nbformat": 4,
 "nbformat_minor": 4
}
