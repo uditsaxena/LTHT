{
 "cells": [
  {
   "cell_type": "code",
   "execution_count": 1,
   "metadata": {},
   "outputs": [],
   "source": [
    "import os\n",
    "os.chdir('..')\n",
    "\n",
    "import networkx as nx\n",
    "import torch\n",
    "import torchvision.transforms as transforms\n",
    "import torchvision.datasets as datasets\n",
    "import torch.nn.functional as F\n",
    "import numpy as np\n",
    "import scipy.sparse\n",
    "import matplotlib.pyplot as plt\n",
    "\n",
    "import persim # see persim.scikit-tda.org\n",
    "from ripser import ripser # see ripser.scikit-tda.org"
   ]
  },
  {
   "cell_type": "markdown",
   "metadata": {},
   "source": [
    "To generate the model used in this example, I ran:\n",
    "\n",
    "`python main.py --arch_type lenet5_nmp --dataset cifar10 --prune_percent 90 --prune_iterations 2 --end_iter 50`"
   ]
  },
  {
   "cell_type": "code",
   "execution_count": 2,
   "metadata": {},
   "outputs": [],
   "source": [
    "# Global-like variable definitions.\n",
    "model_name = 'lenet5_nmp'\n",
    "dataset_name = 'cifar10'\n",
    "data_location = '../data' # location of training data (MNIST, FashionMNIST, CIFAR, etc.)\n",
    "msk_pct = 90 # prune percentage for LT network\n",
    "model_loc0 = 'saves/{}/{}/0_model_lt.pth.tar'.format(model_name, dataset_name) # location of saved, un-pruned model \n",
    "model_loc1 = 'saves/{}/{}/1_model_lt.pth.tar'.format(model_name, dataset_name) # location of saved, pruned model (after 1 prune iteration)"
   ]
  },
  {
   "cell_type": "markdown",
   "metadata": {},
   "source": [
    "## Unpruned Model Homology"
   ]
  },
  {
   "cell_type": "code",
   "execution_count": 3,
   "metadata": {},
   "outputs": [],
   "source": [
    "# load the model.\n",
    "model = torch.load(model_loc0)"
   ]
  },
  {
   "cell_type": "code",
   "execution_count": 4,
   "metadata": {},
   "outputs": [
    {
     "name": "stdout",
     "output_type": "stream",
     "text": [
      "Parameter Shape:  (6, 3, 5, 5)\n",
      "Parameter Shape:  (16, 6, 5, 5)\n",
      "Parameter Shape:  (120, 9216)\n",
      "Parameter Shape:  (84, 120)\n",
      "Parameter Shape:  (10, 84)\n"
     ]
    }
   ],
   "source": [
    "# access model params and add to list `params`. We are ignoring bias weights for now.\n",
    "params = []\n",
    "for name, param in model.named_parameters():\n",
    "    if 'weight' in name:\n",
    "        pnum = param.data.cpu().numpy()\n",
    "        print('Parameter Shape: ', pnum.shape)\n",
    "        params.append(pnum)"
   ]
  },
  {
   "cell_type": "code",
   "execution_count": 7,
   "metadata": {},
   "outputs": [],
   "source": [
    "input_size = (1,3,32,32)"
   ]
  },
  {
   "cell_type": "code",
   "execution_count": 170,
   "metadata": {},
   "outputs": [],
   "source": [
    "def get_im2col_indices(x_shape, field_height, field_width, padding=1, stride=1):\n",
    "    # First figure out what the size of the output should be\n",
    "    N, C, H, W = x_shape\n",
    "    assert (H + 2 * padding - field_height) % stride == 0\n",
    "    assert (W + 2 * padding - field_height) % stride == 0\n",
    "    out_height = int((H + 2 * padding - field_height) / stride + 1)\n",
    "    out_width = int((W + 2 * padding - field_width) / stride + 1)\n",
    "\n",
    "    i0 = np.repeat(np.arange(field_height), field_width)\n",
    "    i0 = np.tile(i0, C)\n",
    "    i1 = stride * np.repeat(np.arange(out_height), out_width)\n",
    "    j0 = np.tile(np.arange(field_width), field_height * C)\n",
    "    j1 = stride * np.tile(np.arange(out_width), out_height)\n",
    "    i = i0.reshape(-1, 1) + i1.reshape(1, -1)\n",
    "    j = j0.reshape(-1, 1) + j1.reshape(1, -1)\n",
    "\n",
    "    k = np.repeat(np.arange(C), field_height * field_width).reshape(-1, 1)\n",
    "\n",
    "    return (k.astype(int), i.astype(int), j.astype(int))\n",
    "\n",
    "def im2col_indices(x, field_height, field_width, padding=1, stride=1):\n",
    "    \"\"\" An implementation of im2col based on some fancy indexing \"\"\"\n",
    "    # Zero-pad the input\n",
    "    p = padding\n",
    "    x_padded = np.pad(x, ((0, 0), (0, 0), (p, p), (p, p)), mode='constant')\n",
    "\n",
    "    k, i, j = get_im2col_indices(x.shape, field_height, field_width, padding, stride)\n",
    "\n",
    "    cols = x_padded[:, k, i, j]\n",
    "    C = x.shape[1]\n",
    "    cols = cols.transpose(1, 2, 0).reshape(field_height * field_width * C, -1)\n",
    "    return cols\n",
    "\n",
    "def col2im_indices(cols, x_shape, field_height=3, field_width=3, padding=1,\n",
    "                   stride=1):\n",
    "    \"\"\" An implementation of col2im based on fancy indexing and np.add.at \"\"\"\n",
    "    N, C, H, W = x_shape\n",
    "    H_padded, W_padded = H + 2 * padding, W + 2 * padding\n",
    "    x_padded = np.zeros((N, C, H_padded, W_padded), dtype=cols.dtype)\n",
    "    k, i, j = get_im2col_indices(x_shape, field_height, field_width, padding, stride)\n",
    "    cols_reshaped = cols.reshape(C * field_height * field_width, -1, N)\n",
    "    cols_reshaped = cols_reshaped.transpose(2, 0, 1)\n",
    "    np.add.at(x_padded, (slice(None), k, i, j), cols_reshaped)\n",
    "    if padding == 0:\n",
    "        return x_padded\n",
    "    return x_padded[:, :, padding:-padding, padding:-padding]\n",
    "\n",
    "def conv_layer_as_matrix(X, X_names, W, stride, padding):\n",
    "    n_filters, d_filter, h_filter, w_filter = W.shape\n",
    "    n_x, d_x, h_x, w_x = X.shape\n",
    "    h_out = (h_x - h_filter + 2 * padding) / stride + 1\n",
    "    w_out = (w_x - w_filter + 2 * padding) / stride + 1\n",
    "    \n",
    "    X_col = im2col_indices(X, h_filter, w_filter, padding=padding, stride=stride)\n",
    "    X_names_col = im2col_indices(X_names, h_filter, w_filter, padding=padding, stride=stride)\n",
    "    W_col = W.reshape(n_filters, -1)\n",
    "    \n",
    "    out = W_col @ X_col\n",
    "    out = out.reshape(n_filters, int(h_out), int(w_out), n_x)\n",
    "    out = out.transpose(3, 0, 1, 2)\n",
    "    \n",
    "    return out, X_col, W_col, X_names_col\n",
    "\n",
    "def conv_to_directed_networkx(params, input_size, layer_names=None, stride=1, padding=0):\n",
    "    # store all network info here\n",
    "    G = nx.DiGraph()\n",
    "    \n",
    "    # create layer names as integers if not provided by user\n",
    "    if layer_names is None:\n",
    "        layer_names = [i for i in range(len(params)+1)]\n",
    "    \n",
    "    # formatting for node names (layer, channel, node)\n",
    "    conv_format = '{}_{}_{}'\n",
    "    \n",
    "    # need to look ahead at next layer to get naming correct\n",
    "    # assume last layer linear    \n",
    "    for l in range(len(params)-1):\n",
    "        print('Layer: {}'.format(l))\n",
    "        p = params[l]\n",
    "        pnext = params[l+1]\n",
    "        if len(p.shape) == 4:\n",
    "            # convolutional layer\n",
    "            input_channels = p.shape[1]\n",
    "            if len(pnext.shape) == 4:\n",
    "                # next layer also conv\n",
    "                X = np.ones(input_size)\n",
    "                for c in range(input_channels):\n",
    "                    print('Channel: {}'.format(c))\n",
    "                    X_names = np.arange(X.shape[2]*X.shape[3]).reshape((1,1,X.shape[2],X.shape[3]))\n",
    "                    tx = X[:,c,:,:].reshape((X.shape[0],1,X.shape[2],X.shape[3]))\n",
    "                    # convert to matrix information\n",
    "                    mat, X_col, W_col, xnames = conv_layer_as_matrix(tx,X_names,p[:,c,:,:].reshape((p.shape[0],1,p.shape[2],p.shape[3])),stride,padding)\n",
    "                    x2names = np.arange(X_col.shape[1])\n",
    "                    for f in range(W_col.shape[0]):\n",
    "                        for row in range(X_col.shape[0]):\n",
    "                            for col in range(X_col.shape[1]):\n",
    "                                v = W_col[f,row]\n",
    "                                if v != 0:\n",
    "                                    G.add_edge(conv_format.format(layer_names[l],c,xnames[row,col]),conv_format.format(layer_names[l+1],f,col), weight=np.abs(1/v))\n",
    "                input_size = mat.shape\n",
    "                \n",
    "            elif len(pnext.shape) == 2:\n",
    "                # next layer linear\n",
    "                X = np.ones(input_size)\n",
    "                for c in range(input_channels):\n",
    "                    print('Channel: {}'.format(c))\n",
    "                    X_names = np.arange(X.shape[2]*X.shape[3]).reshape((1,1,X.shape[2],X.shape[3]))\n",
    "                    tx = X[:,c,:,:].reshape((X.shape[0],1,X.shape[2],X.shape[3]))\n",
    "                    # convert to matrix information\n",
    "                    mat, X_col, W_col, xnames = conv_layer_as_matrix(tx,X_names,p[:,c,:,:].reshape((p.shape[0],1,p.shape[2],p.shape[3])),stride,padding)\n",
    "                    x2names = np.arange(X_col.shape[1])\n",
    "                    for f in range(W_col.shape[0]):\n",
    "                        for row in range(X_col.shape[0]):\n",
    "                            for col in range(X_col.shape[1]):\n",
    "                                v = W_col[f,row]\n",
    "                                if v != 0:\n",
    "                                    G.add_edge(conv_format.format(layer_names[l],c,xnames[row,col]),conv_format.format(layer_names[l+1],0,col), weight=np.abs(1/v))\n",
    "                input_size = mat.shape\n",
    "        elif len(p.shape) == 2:\n",
    "            # linear layer\n",
    "            for row in range(p.shape[1]):\n",
    "                for col in range(p.shape[0]):\n",
    "                    v = p[col,row]\n",
    "                    if v != 0:\n",
    "                        G.add_edge(conv_format.format(layer_names[l],0,row),conv_format.format(layer_names[l+1],0,col), weight=np.abs(1/v))\n",
    "        else:\n",
    "            raise ValueError('Layer type not implemented ')\n",
    "            \n",
    "    # add in last layer\n",
    "    p = params[-1]\n",
    "    for row in range(p.shape[1]):\n",
    "        for col in range(p.shape[0]):\n",
    "            v = p[col,row]\n",
    "            if v != 0:\n",
    "                G.add_edge(conv_format.format(layer_names[-2],0,row),conv_format.format(layer_names[-1],0,col), weight=np.abs(1/v))\n",
    "\n",
    "    return G\n",
    "\n",
    "\n",
    "# helper function for testing model, outputs accuracy\n",
    "def test(model, test_loader, criterion):\n",
    "    device = torch.device(\"cuda\" if torch.cuda.is_available() else \"cpu\")\n",
    "    model.eval()\n",
    "    test_loss = 0\n",
    "    correct = 0\n",
    "    with torch.no_grad():\n",
    "        for data, target in test_loader:\n",
    "            data, target = data.to(device), target.to(device)\n",
    "            output = model(data)\n",
    "            test_loss += F.nll_loss(output, target, reduction='sum').item()  # sum up batch loss\n",
    "            pred = output.data.max(1, keepdim=True)[1]  # get the index of the max log-probability\n",
    "            correct += pred.eq(target.data.view_as(pred)).sum().item()\n",
    "        test_loss /= len(test_loader.dataset)\n",
    "        accuracy = 100. * correct / len(test_loader.dataset)\n",
    "    return accuracy"
   ]
  },
  {
   "cell_type": "code",
   "execution_count": 171,
   "metadata": {},
   "outputs": [
    {
     "name": "stdout",
     "output_type": "stream",
     "text": [
      "Layer: 0\n",
      "Channel: 0\n",
      "Channel: 1\n",
      "Channel: 2\n",
      "Layer: 1\n",
      "Channel: 0\n",
      "Channel: 1\n",
      "Channel: 2\n",
      "Channel: 3\n",
      "Channel: 4\n",
      "Channel: 5\n",
      "Layer: 2\n",
      "Layer: 3\n"
     ]
    }
   ],
   "source": [
    "G = conv_to_directed_networkx(params, input_size)"
   ]
  },
  {
   "cell_type": "code",
   "execution_count": 172,
   "metadata": {},
   "outputs": [
    {
     "data": {
      "text/plain": [
       "{'weight': 8.107979848355166e+39}"
      ]
     },
     "execution_count": 172,
     "metadata": {},
     "output_type": "execute_result"
    }
   ],
   "source": [
    "G.edges[('2_0_1244', '3_0_114')]"
   ]
  },
  {
   "cell_type": "code",
   "execution_count": 173,
   "metadata": {},
   "outputs": [
    {
     "name": "stdout",
     "output_type": "stream",
     "text": [
      "Accuracy: 49.85\n"
     ]
    }
   ],
   "source": [
    "# Test to make sure model works.\n",
    "transform=transforms.Compose([transforms.ToTensor(),transforms.Normalize((0.1307,), (0.3081,))])\n",
    "testdataset = datasets.CIFAR10(data_location, train=False, transform=transform)\n",
    "test_loader = torch.utils.data.DataLoader(testdataset, batch_size=32, shuffle=False, num_workers=0,drop_last=True)\n",
    "criterion = torch.nn.CrossEntropyLoss()\n",
    "print('Accuracy: {}'.format(test(model, test_loader, criterion)))"
   ]
  },
  {
   "cell_type": "code",
   "execution_count": null,
   "metadata": {},
   "outputs": [],
   "source": []
  },
  {
   "cell_type": "code",
   "execution_count": null,
   "metadata": {},
   "outputs": [],
   "source": []
  },
  {
   "cell_type": "code",
   "execution_count": 174,
   "metadata": {},
   "outputs": [
    {
     "data": {
      "text/plain": [
       "{'dgms': [array([[0.       , 0.5416193],\n",
       "         [0.       , 0.5416193],\n",
       "         [0.       , 0.5416193],\n",
       "         ...,\n",
       "         [0.       ,       inf],\n",
       "         [0.       ,       inf],\n",
       "         [0.       ,       inf]]),\n",
       "  array([[      inf,       inf],\n",
       "         [      inf,       inf],\n",
       "         [      inf,       inf],\n",
       "         ...,\n",
       "         [0.6291101,       inf],\n",
       "         [0.6291101,       inf],\n",
       "         [0.6291101,       inf]])],\n",
       " 'cocycles': [[], []],\n",
       " 'num_edges': 265224,\n",
       " 'dperm2all': <17206x17206 sparse matrix of type '<class 'numpy.float64'>'\n",
       " \twith 1556036 stored elements in Compressed Sparse Row format>,\n",
       " 'idx_perm': array([    0,     1,     2, ..., 17203, 17204, 17205]),\n",
       " 'r_cover': 0.0}"
      ]
     },
     "execution_count": 174,
     "metadata": {},
     "output_type": "execute_result"
    }
   ],
   "source": [
    "# compute rips persistent homology (up to 1st dimension) over entire network \n",
    "# using (sparse) adjacency matrix as distance matrix.\n",
    "rips = ripser(nx.to_scipy_sparse_matrix(G), distance_matrix=True, maxdim=1)\n",
    "rips"
   ]
  },
  {
   "cell_type": "code",
   "execution_count": 175,
   "metadata": {},
   "outputs": [
    {
     "data": {
      "image/png": "[encoded data removed]",
      "text/plain": [
       "<Figure size 640x480 with 1 Axes>"
      ]
     },
     "metadata": {},
     "output_type": "display_data"
    }
   ],
   "source": [
    "# plot persistence diagram in dimensions 0 and 1 (on same axes).\n",
    "# points at infinity (homology groups) are plotted on the dotted \n",
    "# line which represents the point \\infty.\n",
    "persim.plot_diagrams(rips['dgms'][0])"
   ]
  },
  {
   "cell_type": "markdown",
   "metadata": {},
   "source": [
    "## Pruned LT Homology"
   ]
  },
  {
   "cell_type": "code",
   "execution_count": 176,
   "metadata": {},
   "outputs": [],
   "source": [
    "# load the LT model.\n",
    "model_lt = torch.load(model_loc1)"
   ]
  },
  {
   "cell_type": "code",
   "execution_count": 177,
   "metadata": {},
   "outputs": [
    {
     "name": "stdout",
     "output_type": "stream",
     "text": [
      "Parameter Shape:  (6, 3, 5, 5)\n",
      "Parameter Shape:  (16, 6, 5, 5)\n",
      "Parameter Shape:  (120, 9216)\n",
      "Parameter Shape:  (84, 120)\n",
      "Parameter Shape:  (10, 84)\n"
     ]
    }
   ],
   "source": [
    "# access model params and add to list `params`. We are ignoring bias weights for now.\n",
    "params_lt = []\n",
    "for name, param in model_lt.named_parameters():\n",
    "    if 'weight' in name:\n",
    "        pnum = param.data.cpu().numpy()\n",
    "        print('Parameter Shape: ', pnum.shape)\n",
    "        params_lt.append(pnum)"
   ]
  },
  {
   "cell_type": "code",
   "execution_count": 178,
   "metadata": {},
   "outputs": [
    {
     "name": "stdout",
     "output_type": "stream",
     "text": [
      "Accuracy: 38.39\n"
     ]
    }
   ],
   "source": [
    "# test this model's accuracy.\n",
    "print('Accuracy: {}'.format(test(model_lt, test_loader, criterion)))"
   ]
  },
  {
   "cell_type": "code",
   "execution_count": null,
   "metadata": {},
   "outputs": [],
   "source": []
  },
  {
   "cell_type": "code",
   "execution_count": 180,
   "metadata": {},
   "outputs": [
    {
     "name": "stdout",
     "output_type": "stream",
     "text": [
      "Layer: 0\n",
      "Channel: 0\n",
      "Channel: 1\n",
      "Channel: 2\n",
      "Layer: 1\n",
      "Channel: 0\n",
      "Channel: 1\n",
      "Channel: 2\n",
      "Channel: 3\n",
      "Channel: 4\n",
      "Channel: 5\n",
      "Layer: 2\n",
      "Layer: 3\n"
     ]
    }
   ],
   "source": [
    "# compute networkx representation of LT NN.\n",
    "G_lt = conv_to_directed_networkx(params_lt, input_size)"
   ]
  },
  {
   "cell_type": "code",
   "execution_count": null,
   "metadata": {},
   "outputs": [],
   "source": []
  },
  {
   "cell_type": "code",
   "execution_count": 181,
   "metadata": {},
   "outputs": [
    {
     "data": {
      "text/plain": [
       "{'dgms': [array([[0.        , 0.59854257],\n",
       "         [0.        , 0.6207661 ],\n",
       "         [0.        , 0.63897318],\n",
       "         ...,\n",
       "         [0.        ,        inf],\n",
       "         [0.        ,        inf],\n",
       "         [0.        ,        inf]]),\n",
       "  array([[       inf,        inf],\n",
       "         [       inf,        inf],\n",
       "         [       inf,        inf],\n",
       "         ...,\n",
       "         [1.98528039,        inf],\n",
       "         [1.90895331,        inf],\n",
       "         [1.46641684,        inf]])],\n",
       " 'cocycles': [[], []],\n",
       " 'num_edges': 46734,\n",
       " 'dperm2all': <17048x17048 sparse matrix of type '<class 'numpy.float64'>'\n",
       " \twith 220693 stored elements in Compressed Sparse Row format>,\n",
       " 'idx_perm': array([    0,     1,     2, ..., 17045, 17046, 17047]),\n",
       " 'r_cover': 0.0}"
      ]
     },
     "execution_count": 181,
     "metadata": {},
     "output_type": "execute_result"
    }
   ],
   "source": [
    "# compute rips persistent homology (up to 1st dimension) over entire network \n",
    "# using (sparse) adjacency matrix as distance matrix.\n",
    "rips_lt = ripser(nx.to_scipy_sparse_matrix(G_lt), distance_matrix=True, maxdim=1)\n",
    "rips_lt"
   ]
  },
  {
   "cell_type": "code",
   "execution_count": 186,
   "metadata": {},
   "outputs": [
    {
     "data": {
      "image/png": "[encoded data removed]",
      "text/plain": [
       "<Figure size 640x480 with 1 Axes>"
      ]
     },
     "metadata": {},
     "output_type": "display_data"
    }
   ],
   "source": [
    "# plot persistence diagram in dimensions 0 and 1 (on same axes).\n",
    "# points at infinity (homology groups) are plotted on the dotted \n",
    "# line which represents the point \\infty.\n",
    "persim.plot_diagrams(rips_lt['dgms'][0])"
   ]
  },
  {
   "cell_type": "markdown",
   "metadata": {},
   "source": [
    "## Compare Networks"
   ]
  },
  {
   "cell_type": "code",
   "execution_count": 184,
   "metadata": {},
   "outputs": [
    {
     "name": "stderr",
     "output_type": "stream",
     "text": [
      "/home/schraterlab/gebhart/projects/LTH-Topology/env/lib/python3.6/site-packages/persim/bottleneck.py:55: UserWarning: dgm1 has points with non-finite death times;ignoring those points\n",
      "  \"ignoring those points\"\n",
      "/home/schraterlab/gebhart/projects/LTH-Topology/env/lib/python3.6/site-packages/persim/bottleneck.py:65: UserWarning: dgm2 has points with non-finite death times;ignoring those points\n",
      "  \"ignoring those points\"\n"
     ]
    },
    {
     "name": "stdout",
     "output_type": "stream",
     "text": [
      "Bottleneck Distance: 3.3316446950348835e+36\n"
     ]
    },
    {
     "data": {
      "image/png": "[encoded data removed]",
      "text/plain": [
       "<Figure size 640x480 with 1 Axes>"
      ]
     },
     "metadata": {},
     "output_type": "display_data"
    }
   ],
   "source": [
    "# compute the bottleneck distance between networks and plot the implicit matching. \n",
    "# bottleneck distance is defined as the distance between the farthest-apart matched points. \n",
    "# NOTE: the persim package ignores points at infinity, so this calculation still returns \n",
    "# a bounded result. Technically, the bottleneck distance between the two networks is \\infty. \n",
    "distance_bottleneck, (matching, D) = persim.bottleneck(rips['dgms'][0], rips_lt['dgms'][0], matching=True)\n",
    "persim.bottleneck_matching(rips['dgms'][0], rips_lt['dgms'][0], matching, D, labels=['FC $H_0$', 'LT $H_0$'])\n",
    "print('Bottleneck Distance: {}'.format(distance_bottleneck))"
   ]
  },
  {
   "cell_type": "code",
   "execution_count": null,
   "metadata": {},
   "outputs": [],
   "source": []
  }
 ],
 "metadata": {
  "kernelspec": {
   "display_name": "Python 3",
   "language": "python",
   "name": "python3"
  },
  "language_info": {
   "codemirror_mode": {
    "name": "ipython",
    "version": 3
   },
   "file_extension": ".py",
   "mimetype": "text/x-python",
   "name": "python",
   "nbconvert_exporter": "python",
   "pygments_lexer": "ipython3",
   "version": "3.6.3"
  }
 },
 "nbformat": 4,
 "nbformat_minor": 4
}
