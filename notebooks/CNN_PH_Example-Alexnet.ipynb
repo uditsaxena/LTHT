{
 "cells": [
  {
   "cell_type": "code",
   "execution_count": 1,
   "metadata": {},
   "outputs": [],
   "source": [
    "%load_ext autoreload\n",
    "%autoreload 2\n",
    "import os\n",
    "os.chdir('..')"
   ]
  },
  {
   "cell_type": "code",
   "execution_count": 2,
   "metadata": {},
   "outputs": [],
   "source": [
    "import networkx as nx\n",
    "import torch\n",
    "import torchvision.transforms as transforms\n",
    "import torchvision.datasets as datasets\n",
    "import torch.nn.functional as F\n",
    "import numpy as np\n",
    "import scipy.sparse\n",
    "import matplotlib.pyplot as plt\n",
    "from nn_homology import nn_graph\n",
    "from archs.mnist.AlexNet import AlexNet\n",
    "\n",
    "import persim # see persim.scikit-tda.org\n",
    "from ripser import ripser # see ripser.scikit-tda.org"
   ]
  },
  {
   "cell_type": "markdown",
   "metadata": {},
   "source": [
    "To generate the model used in this example, I ran:\n",
    "\n",
    "`python main.py --arch_type alexnet --dataset mnist --prune_percent 95 --prune_iterations 2 --end_iter 30`"
   ]
  },
  {
   "cell_type": "code",
   "execution_count": 3,
   "metadata": {},
   "outputs": [],
   "source": [
    "# Global-like variable definitions.\n",
    "model_name = 'alexnet'\n",
    "dataset_name = 'mnist'\n",
    "data_location = '../data' # location of training data (MNIST, FashionMNIST, CIFAR, etc.)\n",
    "msk_pct = 95 # prune percentage for LT network\n",
    "model_loc0 = 'saves/{}/{}/0_model_lt.pth.tar'.format(model_name, dataset_name) # location of saved, un-pruned model \n",
    "model_loc1 = 'saves/{}/{}/1_model_lt.pth.tar'.format(model_name, dataset_name) # location of saved, pruned model (after 1 prune iteration)"
   ]
  },
  {
   "cell_type": "markdown",
   "metadata": {},
   "source": [
    "## Unpruned Model Homology"
   ]
  },
  {
   "cell_type": "code",
   "execution_count": 4,
   "metadata": {},
   "outputs": [
    {
     "name": "stderr",
     "output_type": "stream",
     "text": [
      "/home/schraterlab/anaconda3/lib/python3.8/site-packages/torch/serialization.py:593: SourceChangeWarning: source code of class 'torch.nn.modules.container.Sequential' has changed. you can retrieve the original source code by accessing the object's source attribute or set `torch.nn.Module.dump_patches = True` and use the patch tool to revert the changes.\n",
      "  warnings.warn(msg, SourceChangeWarning)\n"
     ]
    },
    {
     "name": "stdout",
     "output_type": "stream",
     "text": [
      "[{'layer_type': 'Conv2d', 'kernel_size': (3, 3), 'stride': 2, 'padding': 2, 'name': 'Conv1'}, {'layer_type': 'MaxPool2d', 'kernel_size': (3, 3), 'stride': 2, 'padding': 0, 'name': 'MaxPool1'}, {'layer_type': 'Conv2d', 'kernel_size': (5, 5), 'stride': 1, 'padding': 2, 'name': 'Conv2'}, {'layer_type': 'MaxPool2d', 'kernel_size': (3, 3), 'stride': 2, 'padding': 0, 'name': 'MaxPool2'}, {'layer_type': 'Conv2d', 'kernel_size': (3, 3), 'stride': 1, 'padding': 1, 'name': 'Conv3'}, {'layer_type': 'Conv2d', 'kernel_size': (3, 3), 'stride': 1, 'padding': 1, 'name': 'Conv4'}, {'layer_type': 'Conv2d', 'kernel_size': (3, 3), 'stride': 1, 'padding': 1, 'name': 'Conv5'}, {'layer_type': 'MaxPool2d', 'kernel_size': (3, 3), 'stride': 2, 'padding': 0, 'name': 'MaxPool3'}, {'layer_type': 'Linear', 'name': 'Linear1'}, {'layer_type': 'Linear', 'name': 'Linear2'}, {'layer_type': 'Linear', 'name': 'Linear3'}]\n"
     ]
    }
   ],
   "source": [
    "# load the model.\n",
    "model = torch.load(model_loc0)\n",
    "alnt = AlexNet()\n",
    "print(alnt.param_info)"
   ]
  },
  {
   "cell_type": "code",
   "execution_count": 5,
   "metadata": {},
   "outputs": [
    {
     "name": "stdout",
     "output_type": "stream",
     "text": [
      "Layer: Conv1\n",
      "Layer: MaxPool1\n",
      "Layer: Conv2\n",
      "Layer: MaxPool2\n",
      "Layer: Conv3\n",
      "Layer: Conv4\n",
      "Layer: Conv5\n",
      "Layer: MaxPool3\n",
      "Layer: Linear1\n",
      "Layer: Linear2\n",
      "Layer: Linear3\n",
      "CPU times: user 9min 58s, sys: 2min, total: 11min 58s\n",
      "Wall time: 15min 1s\n"
     ]
    },
    {
     "data": {
      "text/plain": [
       "<networkx.classes.digraph.DiGraph at 0x7f21982b5940>"
      ]
     },
     "execution_count": 5,
     "metadata": {},
     "output_type": "execute_result"
    }
   ],
   "source": [
    "NNG = nn_graph.NNGraph()\n",
    "%time NNG.parameter_graph(model, alnt.param_info, (1,1,28,28))"
   ]
  },
  {
   "cell_type": "code",
   "execution_count": 6,
   "metadata": {},
   "outputs": [],
   "source": [
    "# helper function for testing model, outputs accuracy\n",
    "def test(model, test_loader, criterion):\n",
    "    device = torch.device(\"cuda\" if torch.cuda.is_available() else \"cpu\")\n",
    "    model.eval()\n",
    "    test_loss = 0\n",
    "    correct = 0\n",
    "    with torch.no_grad():\n",
    "        for data, target in test_loader:\n",
    "            data, target = data.to(device), target.to(device)\n",
    "            output = model(data)\n",
    "            test_loss += F.nll_loss(output, target, reduction='sum').item()  # sum up batch loss\n",
    "            pred = output.data.max(1, keepdim=True)[1]  # get the index of the max log-probability\n",
    "            correct += pred.eq(target.data.view_as(pred)).sum().item()\n",
    "        test_loss /= len(test_loader.dataset)\n",
    "        accuracy = 100. * correct / len(test_loader.dataset)\n",
    "    return accuracy"
   ]
  },
  {
   "cell_type": "code",
   "execution_count": 7,
   "metadata": {},
   "outputs": [
    {
     "name": "stdout",
     "output_type": "stream",
     "text": [
      "Accuracy: 93.15\n"
     ]
    }
   ],
   "source": [
    "# Test to make sure model works.\n",
    "transform=transforms.Compose([transforms.ToTensor(),transforms.Normalize((0.1307,), (0.3081,))])\n",
    "testdataset = datasets.MNIST(data_location, train=False, transform=transform)\n",
    "test_loader = torch.utils.data.DataLoader(testdataset, batch_size=32, shuffle=False, num_workers=0,drop_last=True)\n",
    "criterion = torch.nn.CrossEntropyLoss()\n",
    "print('Accuracy: {}'.format(test(model, test_loader, criterion)))"
   ]
  },
  {
   "cell_type": "code",
   "execution_count": null,
   "metadata": {},
   "outputs": [],
   "source": []
  },
  {
   "cell_type": "code",
   "execution_count": null,
   "metadata": {},
   "outputs": [],
   "source": [
    "# out of curiosity...\n",
    "# nx.dag_longest_path(G)"
   ]
  },
  {
   "cell_type": "code",
   "execution_count": null,
   "metadata": {},
   "outputs": [],
   "source": []
  },
  {
   "cell_type": "code",
   "execution_count": null,
   "metadata": {},
   "outputs": [],
   "source": [
    "# THIS WILL TAKE A LONG TIME WITH UNPRUNED ALEXNET\n",
    "# compute rips persistent homology (up to 1st dimension) over entire network \n",
    "# using (sparse) adjacency matrix as distance matrix.\n",
    "%time rips = ripser(scipy.sparse.csr_matrix(NNG.get_adjacency()), distance_matrix=True, maxdim=1)\n",
    "rips"
   ]
  },
  {
   "cell_type": "code",
   "execution_count": null,
   "metadata": {},
   "outputs": [],
   "source": [
    "# plot persistence diagram in dimensions 0 and 1 (on same axes).\n",
    "# points at infinity (homology groups) are plotted on the dotted \n",
    "# line which represents the point \\infty.\n",
    "persim.plot_diagrams(rips['dgms'][0])"
   ]
  },
  {
   "cell_type": "markdown",
   "metadata": {},
   "source": [
    "## Pruned LT Homology"
   ]
  },
  {
   "cell_type": "code",
   "execution_count": 8,
   "metadata": {},
   "outputs": [],
   "source": [
    "# load the LT model.\n",
    "model_lt = torch.load(model_loc1)"
   ]
  },
  {
   "cell_type": "code",
   "execution_count": 9,
   "metadata": {},
   "outputs": [],
   "source": [
    "alnt = AlexNet()"
   ]
  },
  {
   "cell_type": "code",
   "execution_count": 10,
   "metadata": {},
   "outputs": [
    {
     "name": "stdout",
     "output_type": "stream",
     "text": [
      "Accuracy: 11.33\n"
     ]
    }
   ],
   "source": [
    "# test this model's accuracy. (not actually a LT because I'm lazy and picked too high of a threshold)\n",
    "print('Accuracy: {}'.format(test(model_lt, test_loader, criterion)))"
   ]
  },
  {
   "cell_type": "code",
   "execution_count": 11,
   "metadata": {
    "scrolled": true
   },
   "outputs": [],
   "source": [
    "# compute networkx representation of LT NN.\n",
    "NNG.update_adjacency(model_lt)"
   ]
  },
  {
   "cell_type": "code",
   "execution_count": 12,
   "metadata": {},
   "outputs": [
    {
     "name": "stdout",
     "output_type": "stream",
     "text": [
      "CPU times: user 24min 25s, sys: 8.2 s, total: 24min 33s\n",
      "Wall time: 24min 33s\n"
     ]
    },
    {
     "data": {
      "text/plain": [
       "{'dgms': [array([[0.        , 0.90565455],\n",
       "         [0.        , 0.90669388],\n",
       "         [0.        , 0.90852445],\n",
       "         ...,\n",
       "         [0.        , 1.        ],\n",
       "         [0.        , 1.        ],\n",
       "         [0.        ,        inf]]),\n",
       "  array([[1.0146606 ,        inf],\n",
       "         [1.01368713,        inf],\n",
       "         [1.01339567,        inf],\n",
       "         ...,\n",
       "         [0.94325763,        inf],\n",
       "         [0.94262832,        inf],\n",
       "         [0.94133192,        inf]])],\n",
       " 'cocycles': [[], []],\n",
       " 'num_edges': 41585216,\n",
       " 'dperm2all': <45978x45978 sparse matrix of type '<class 'numpy.float64'>'\n",
       " \twith 83170432 stored elements in Compressed Sparse Row format>,\n",
       " 'idx_perm': array([    0,     1,     2, ..., 45975, 45976, 45977]),\n",
       " 'r_cover': 0.0}"
      ]
     },
     "execution_count": 12,
     "metadata": {},
     "output_type": "execute_result"
    }
   ],
   "source": [
    "# compute rips persistent homology (up to 1st dimension) over entire network \n",
    "# using (sparse) adjacency matrix as distance matrix.\n",
    "%time rips_lt = ripser(scipy.sparse.csr_matrix(NNG.get_adjacency()), distance_matrix=True, maxdim=1)\n",
    "rips_lt"
   ]
  },
  {
   "cell_type": "code",
   "execution_count": 13,
   "metadata": {},
   "outputs": [
    {
     "data": {
      "image/png": "[encoded data removed]",
      "text/plain": [
       "<Figure size 432x288 with 1 Axes>"
      ]
     },
     "metadata": {
      "needs_background": "light"
     },
     "output_type": "display_data"
    }
   ],
   "source": [
    "# plot persistence diagram in dimensions 0 and 1 (on same axes).\n",
    "# points at infinity (homology groups) are plotted on the dotted \n",
    "# line which represents the point \\infty.\n",
    "persim.plot_diagrams(rips_lt['dgms'][0])"
   ]
  },
  {
   "cell_type": "code",
   "execution_count": 16,
   "metadata": {},
   "outputs": [],
   "source": [
    "del NNG"
   ]
  },
  {
   "cell_type": "code",
   "execution_count": 22,
   "metadata": {},
   "outputs": [
    {
     "name": "stdout",
     "output_type": "stream",
     "text": [
      "Layer: Conv1\n",
      "Layer: MaxPool1\n",
      "Layer: Conv2\n",
      "Layer: MaxPool2\n",
      "Layer: Conv3\n",
      "Layer: Conv4\n",
      "Layer: Conv5\n",
      "Layer: MaxPool3\n",
      "Layer: Linear1\n",
      "Layer: Linear2\n",
      "Layer: Linear3\n",
      "CPU times: user 2min 32s, sys: 32.6 s, total: 3min 4s\n",
      "Wall time: 5min 57s\n"
     ]
    },
    {
     "data": {
      "text/plain": [
       "<networkx.classes.digraph.DiGraph at 0x7f20bc07cc40>"
      ]
     },
     "execution_count": 22,
     "metadata": {},
     "output_type": "execute_result"
    }
   ],
   "source": [
    "NNGLT = nn_graph.NNGraph()\n",
    "%time NNGLT.parameter_graph(model_lt, alnt.param_info, (1,1,28,28), ignore_zeros=True)"
   ]
  },
  {
   "cell_type": "code",
   "execution_count": 23,
   "metadata": {},
   "outputs": [
    {
     "name": "stdout",
     "output_type": "stream",
     "text": [
      "CPU times: user 24.2 s, sys: 2.44 s, total: 26.6 s\n",
      "Wall time: 27.9 s\n"
     ]
    },
    {
     "data": {
      "text/plain": [
       "{'dgms': [array([[0.        , 0.90565455],\n",
       "         [0.        , 0.90669388],\n",
       "         [0.        , 0.90852445],\n",
       "         ...,\n",
       "         [0.        , 1.        ],\n",
       "         [0.        , 1.        ],\n",
       "         [0.        ,        inf]]),\n",
       "  array([[1.0146606 ,        inf],\n",
       "         [1.01368713,        inf],\n",
       "         [1.01339567,        inf],\n",
       "         ...,\n",
       "         [0.94325763,        inf],\n",
       "         [0.94262832,        inf],\n",
       "         [0.94133192,        inf]])],\n",
       " 'cocycles': [[], []],\n",
       " 'num_edges': 2018901,\n",
       " 'dperm2all': <34164x34164 sparse matrix of type '<class 'numpy.float64'>'\n",
       " \twith 4037802 stored elements in Compressed Sparse Row format>,\n",
       " 'idx_perm': array([    0,     1,     2, ..., 34161, 34162, 34163]),\n",
       " 'r_cover': 0.0}"
      ]
     },
     "execution_count": 23,
     "metadata": {},
     "output_type": "execute_result"
    }
   ],
   "source": [
    "%time rips_lt2 = ripser(scipy.sparse.csr_matrix(NNGLT.get_adjacency()), distance_matrix=True, maxdim=1)\n",
    "rips_lt2"
   ]
  },
  {
   "cell_type": "code",
   "execution_count": 30,
   "metadata": {},
   "outputs": [
    {
     "data": {
      "image/png": "[encoded data removed]",
      "text/plain": [
       "<Figure size 640x480 with 1 Axes>"
      ]
     },
     "metadata": {},
     "output_type": "display_data"
    }
   ],
   "source": [
    "persim.plot_diagrams(rips_lt2['dgms'][0])"
   ]
  },
  {
   "cell_type": "code",
   "execution_count": 38,
   "metadata": {},
   "outputs": [
    {
     "data": {
      "text/plain": [
       "True"
      ]
     },
     "execution_count": 38,
     "metadata": {},
     "output_type": "execute_result"
    }
   ],
   "source": [
    "(rips_lt2['dgms'][0][-10000:] == rips_lt['dgms'][0][-10000:]).all()"
   ]
  },
  {
   "cell_type": "code",
   "execution_count": null,
   "metadata": {},
   "outputs": [],
   "source": []
  }
 ],
 "metadata": {
  "kernelspec": {
   "display_name": "Python 3",
   "language": "python",
   "name": "python3"
  },
  "language_info": {
   "codemirror_mode": {
    "name": "ipython",
    "version": 3
   },
   "file_extension": ".py",
   "mimetype": "text/x-python",
   "name": "python",
   "nbconvert_exporter": "python",
   "pygments_lexer": "ipython3",
   "version": "3.8.2"
  }
 },
 "nbformat": 4,
 "nbformat_minor": 4
}
