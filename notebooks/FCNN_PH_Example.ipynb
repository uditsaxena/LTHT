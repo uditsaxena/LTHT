{
 "cells": [
  {
   "cell_type": "code",
   "execution_count": 1,
   "metadata": {},
   "outputs": [],
   "source": [
    "import os\n",
    "os.chdir('..')\n",
    "\n",
    "import networkx as nx\n",
    "import torch\n",
    "import torchvision.transforms as transforms\n",
    "import torchvision.datasets as datasets\n",
    "import torch.nn.functional as F\n",
    "import numpy as np\n",
    "import scipy.sparse\n",
    "import matplotlib.pyplot as plt\n",
    "\n",
    "import persim # see persim.scikit-tda.org\n",
    "from ripser import ripser # see ripser.scikit-tda.org"
   ]
  },
  {
   "cell_type": "code",
   "execution_count": 2,
   "metadata": {},
   "outputs": [],
   "source": [
    "# Global-like variable definitions.\n",
    "model_name = 'fc1'\n",
    "dataset_name = 'mnist'\n",
    "data_location = '../data' # location of training data (MNIST, FashionMNIST, CIFAR, etc.)\n",
    "msk_pct = 90 # prune percentage for LT network\n",
    "model_loc0 = 'saves/{}/{}/0_model_lt.pth.tar'.format(model_name, dataset_name) # location of saved, un-pruned model \n",
    "model_loc1 = 'saves/{}/{}/1_model_lt.pth.tar'.format(model_name, dataset_name) # location of saved, pruned model (after 1 prune iteration)"
   ]
  },
  {
   "cell_type": "markdown",
   "metadata": {},
   "source": [
    "## Unpruned Model Homology"
   ]
  },
  {
   "cell_type": "code",
   "execution_count": 3,
   "metadata": {},
   "outputs": [],
   "source": [
    "# load the model.\n",
    "model = torch.load(model_loc0)"
   ]
  },
  {
   "cell_type": "code",
   "execution_count": 4,
   "metadata": {},
   "outputs": [
    {
     "name": "stdout",
     "output_type": "stream",
     "text": [
      "Parameter Shape:  (300, 784)\n",
      "Parameter Shape:  (100, 300)\n",
      "Parameter Shape:  (10, 100)\n"
     ]
    }
   ],
   "source": [
    "# access model params and add to list `params`. We are ignoring bias weights for now.\n",
    "params = []\n",
    "for name, param in model.named_parameters():\n",
    "    if 'weight' in name:\n",
    "        pnum = param.data.cpu().numpy()\n",
    "        print('Parameter Shape: ', pnum.shape)\n",
    "        params.append(pnum)"
   ]
  },
  {
   "cell_type": "code",
   "execution_count": 5,
   "metadata": {},
   "outputs": [],
   "source": [
    "# helper function for testing model, outputs accuracy\n",
    "def test(model, test_loader, criterion):\n",
    "    device = torch.device(\"cuda\" if torch.cuda.is_available() else \"cpu\")\n",
    "    model.eval()\n",
    "    test_loss = 0\n",
    "    correct = 0\n",
    "    with torch.no_grad():\n",
    "        for data, target in test_loader:\n",
    "            data, target = data.to(device), target.to(device)\n",
    "            output = model(data)\n",
    "            test_loss += F.nll_loss(output, target, reduction='sum').item()  # sum up batch loss\n",
    "            pred = output.data.max(1, keepdim=True)[1]  # get the index of the max log-probability\n",
    "            correct += pred.eq(target.data.view_as(pred)).sum().item()\n",
    "        test_loss /= len(test_loader.dataset)\n",
    "        accuracy = 100. * correct / len(test_loader.dataset)\n",
    "    return accuracy\n",
    "\n",
    "\n",
    "# primary function for translating NN to networkx graph. \n",
    "def to_directed_networkx(params, layer_names=None):\n",
    "    '''primary function for translating FCNN to networkx graph. \n",
    "    Gives node a name corresponding to its layer and location in \n",
    "    parameter matrix. Weights edges to match notion of \"distance\"\n",
    "    matrix for nodes. \n",
    "    \n",
    "    params (list): list of FC weight matrices in numpy format.\n",
    "    layer_names (optional): list of layer names to be associated to each node\n",
    "    (defaults to integer layer number).\n",
    "    \n",
    "    returns: networkx DiGraph.\n",
    "    '''\n",
    "    if layer_names is None:\n",
    "        layer_names = [i for i in range(len(params))]\n",
    "    G = nx.DiGraph()\n",
    "    for i in range(len(params)):\n",
    "        layer_name = layer_names[i]\n",
    "        p = scipy.sparse.coo_matrix(params[i].T)\n",
    "        for i,j,v in zip(p.row, p.col, p.data):\n",
    "            if v != 0:\n",
    "                G.add_edge(str(layer_name)+'_'+str(i),str(layer_name+1)+'_'+str(j),weight=np.abs(1/1+v))\n",
    "    return G"
   ]
  },
  {
   "cell_type": "code",
   "execution_count": 6,
   "metadata": {},
   "outputs": [
    {
     "name": "stdout",
     "output_type": "stream",
     "text": [
      "Accuracy: 97.09\n"
     ]
    }
   ],
   "source": [
    "# Test to make sure model works.\n",
    "transform=transforms.Compose([transforms.ToTensor(),transforms.Normalize((0.1307,), (0.3081,))])\n",
    "testdataset = datasets.MNIST(data_location, train=False, transform=transform)\n",
    "test_loader = torch.utils.data.DataLoader(testdataset, batch_size=32, shuffle=False, num_workers=0,drop_last=True)\n",
    "criterion = torch.nn.CrossEntropyLoss()\n",
    "print('Accuracy: {}'.format(test(model, test_loader, criterion)))"
   ]
  },
  {
   "cell_type": "code",
   "execution_count": 7,
   "metadata": {},
   "outputs": [],
   "source": [
    "# compute networkx representation of NN.\n",
    "G = to_directed_networkx(params)"
   ]
  },
  {
   "cell_type": "code",
   "execution_count": 8,
   "metadata": {},
   "outputs": [
    {
     "name": "stdout",
     "output_type": "stream",
     "text": [
      "Expected Nodes: 1194 | Expected Edges: 266200\n",
      "Number of Nodes: 1194, 100.00% | Number of Edges: 266200, 100.00%\n"
     ]
    }
   ],
   "source": [
    "# sanity check on model parameters\n",
    "en = 784+300+100+10 # expected number of nodes given the architecture\n",
    "ee = 300*784+100*300+10*100 # expected number of edges given the architecture\n",
    "nn = G.number_of_nodes() # number of nodes in our computed networkx representation\n",
    "ne = G.number_of_edges() # number of edges in our computed networkx representation\n",
    "\n",
    "print('Expected Nodes: {} | Expected Edges: {}'.format(en,ee))\n",
    "print('Number of Nodes: {}, {:.2f}% | Number of Edges: {}, {:.2f}%'.format(nn, nn/en*100,ne, ne/ee*100))"
   ]
  },
  {
   "cell_type": "code",
   "execution_count": 9,
   "metadata": {},
   "outputs": [
    {
     "data": {
      "text/plain": [
       "{'dgms': [array([[0.        , 0.98248565],\n",
       "         [0.        , 0.98853326],\n",
       "         [0.        , 0.98909342],\n",
       "         ...,\n",
       "         [0.        ,        inf],\n",
       "         [0.        ,        inf],\n",
       "         [0.        ,        inf]]),\n",
       "  array([[1.58155715,        inf],\n",
       "         [1.57476449,        inf],\n",
       "         [1.54409647,        inf],\n",
       "         ...,\n",
       "         [0.99587959,        inf],\n",
       "         [0.99578464,        inf],\n",
       "         [0.99575984,        inf]])],\n",
       " 'cocycles': [[], []],\n",
       " 'num_edges': 31300,\n",
       " 'dperm2all': <1194x1194 sparse matrix of type '<class 'numpy.float64'>'\n",
       " \twith 266200 stored elements in Compressed Sparse Row format>,\n",
       " 'idx_perm': array([   0,    1,    2, ..., 1191, 1192, 1193]),\n",
       " 'r_cover': 0.0}"
      ]
     },
     "execution_count": 9,
     "metadata": {},
     "output_type": "execute_result"
    }
   ],
   "source": [
    "# compute rips persistent homology (up to 1st dimension) over entire network \n",
    "# using (sparse) adjacency matrix as distance matrix.\n",
    "rips = ripser(nx.to_scipy_sparse_matrix(G), distance_matrix=True, maxdim=1)\n",
    "rips"
   ]
  },
  {
   "cell_type": "code",
   "execution_count": 10,
   "metadata": {},
   "outputs": [
    {
     "data": {
      "image/png": "[encoded data removed]",
      "text/plain": [
       "<Figure size 432x288 with 1 Axes>"
      ]
     },
     "metadata": {
      "needs_background": "light"
     },
     "output_type": "display_data"
    }
   ],
   "source": [
    "# plot persistence diagram in dimensions 0 and 1 (on same axes).\n",
    "# points at infinity (homology groups) are plotted on the dotted \n",
    "# line which represents the point \\infty.\n",
    "persim.plot_diagrams(rips['dgms'])"
   ]
  },
  {
   "cell_type": "markdown",
   "metadata": {},
   "source": [
    "## Pruned LT Homology"
   ]
  },
  {
   "cell_type": "code",
   "execution_count": 11,
   "metadata": {},
   "outputs": [],
   "source": [
    "# load the LT model.\n",
    "model_lt = torch.load(model_loc1)"
   ]
  },
  {
   "cell_type": "code",
   "execution_count": 12,
   "metadata": {},
   "outputs": [
    {
     "name": "stdout",
     "output_type": "stream",
     "text": [
      "Parameter Shape:  (300, 784)\n",
      "Parameter Shape:  (100, 300)\n",
      "Parameter Shape:  (10, 100)\n"
     ]
    }
   ],
   "source": [
    "# access model params and add to list `params`. We are ignoring bias weights for now.\n",
    "params_lt = []\n",
    "for name, param in model_lt.named_parameters():\n",
    "    if 'weight' in name:\n",
    "        pnum = param.data.cpu().numpy()\n",
    "        print('Parameter Shape: ', pnum.shape)\n",
    "        params_lt.append(pnum)"
   ]
  },
  {
   "cell_type": "code",
   "execution_count": 13,
   "metadata": {},
   "outputs": [
    {
     "name": "stdout",
     "output_type": "stream",
     "text": [
      "Accuracy: 96.65\n"
     ]
    }
   ],
   "source": [
    "# test this model's accuracy.\n",
    "print('Accuracy: {}'.format(test(model_lt, test_loader, criterion)))"
   ]
  },
  {
   "cell_type": "code",
   "execution_count": 14,
   "metadata": {},
   "outputs": [],
   "source": [
    "# compute networkx representation of LT NN.\n",
    "G_lt = to_directed_networkx(params_lt)"
   ]
  },
  {
   "cell_type": "code",
   "execution_count": 15,
   "metadata": {},
   "outputs": [
    {
     "name": "stdout",
     "output_type": "stream",
     "text": [
      "Expected Nodes: 1194 | Expected Edges: 266200\n",
      "Number of Nodes: 1164, 97.49% | Number of Edges: 26620, 10.00%\n"
     ]
    }
   ],
   "source": [
    "# sanity check on model parameters, note decreased number of edges (and some nodes). \n",
    "nn = G_lt.number_of_nodes()\n",
    "ne = G_lt.number_of_edges()\n",
    "print('Expected Nodes: {} | Expected Edges: {}'.format(en,ee))\n",
    "print('Number of Nodes: {}, {:.2f}% | Number of Edges: {}, {:.2f}%'.format(nn, nn/en*100,ne, ne/ee*100))"
   ]
  },
  {
   "cell_type": "code",
   "execution_count": 16,
   "metadata": {},
   "outputs": [
    {
     "data": {
      "text/plain": [
       "{'dgms': [array([[0.        , 0.99051774],\n",
       "         [0.        , 0.9920485 ],\n",
       "         [0.        , 0.9927153 ],\n",
       "         ...,\n",
       "         [0.        ,        inf],\n",
       "         [0.        ,        inf],\n",
       "         [0.        ,        inf]]),\n",
       "  array([[2.33915043,        inf],\n",
       "         [2.08174372,        inf],\n",
       "         [2.07072401,        inf],\n",
       "         ...,\n",
       "         [1.        ,        inf],\n",
       "         [1.        ,        inf],\n",
       "         [1.        ,        inf]])],\n",
       " 'cocycles': [[], []],\n",
       " 'num_edges': 3373,\n",
       " 'dperm2all': <1164x1164 sparse matrix of type '<class 'numpy.float64'>'\n",
       " \twith 26620 stored elements in Compressed Sparse Row format>,\n",
       " 'idx_perm': array([   0,    1,    2, ..., 1161, 1162, 1163]),\n",
       " 'r_cover': 0.0}"
      ]
     },
     "execution_count": 16,
     "metadata": {},
     "output_type": "execute_result"
    }
   ],
   "source": [
    "# compute rips persistent homology (up to 1st dimension) over entire network \n",
    "# using (sparse) adjacency matrix as distance matrix.\n",
    "rips_lt = ripser(nx.to_scipy_sparse_matrix(G_lt), distance_matrix=True, maxdim=1)\n",
    "rips_lt"
   ]
  },
  {
   "cell_type": "code",
   "execution_count": 17,
   "metadata": {},
   "outputs": [
    {
     "data": {
      "image/png": "[encoded data removed]",
      "text/plain": [
       "<Figure size 640x480 with 1 Axes>"
      ]
     },
     "metadata": {},
     "output_type": "display_data"
    }
   ],
   "source": [
    "# plot persistence diagram in dimensions 0 and 1 (on same axes).\n",
    "# points at infinity (homology groups) are plotted on the dotted \n",
    "# line which represents the point \\infty.\n",
    "persim.plot_diagrams(rips_lt['dgms'])"
   ]
  },
  {
   "cell_type": "markdown",
   "metadata": {},
   "source": [
    "## Compare Networks"
   ]
  },
  {
   "cell_type": "code",
   "execution_count": 18,
   "metadata": {},
   "outputs": [
    {
     "name": "stderr",
     "output_type": "stream",
     "text": [
      "/home/schraterlab/gebhart/projects/LTH-Topology/env/lib/python3.6/site-packages/persim/bottleneck.py:55: UserWarning: dgm1 has points with non-finite death times;ignoring those points\n",
      "  \"ignoring those points\"\n",
      "/home/schraterlab/gebhart/projects/LTH-Topology/env/lib/python3.6/site-packages/persim/bottleneck.py:65: UserWarning: dgm2 has points with non-finite death times;ignoring those points\n",
      "  \"ignoring those points\"\n"
     ]
    },
    {
     "name": "stdout",
     "output_type": "stream",
     "text": [
      "Bottleneck Distance: 0.5246462821960449\n"
     ]
    },
    {
     "data": {
      "image/png": "[encoded data removed]",
      "text/plain": [
       "<Figure size 640x480 with 1 Axes>"
      ]
     },
     "metadata": {},
     "output_type": "display_data"
    }
   ],
   "source": [
    "# compute the bottleneck distance between networks and plot the implicit matching. \n",
    "# bottleneck distance is defined as the distance between the farthest-apart matched points. \n",
    "# NOTE: the persim package ignores points at infinity, so this calculation still returns \n",
    "# a bounded result. Technically, the bottleneck distance between the two networks is \\infty. \n",
    "distance_bottleneck, (matching, D) = persim.bottleneck(rips['dgms'][0], rips_lt['dgms'][0], matching=True)\n",
    "persim.bottleneck_matching(rips['dgms'][0], rips_lt['dgms'][0], matching, D, labels=['FC $H_0$', 'LT $H_0$'])\n",
    "print('Bottleneck Distance: {}'.format(distance_bottleneck))"
   ]
  },
  {
   "cell_type": "code",
   "execution_count": null,
   "metadata": {},
   "outputs": [],
   "source": []
  }
 ],
 "metadata": {
  "kernelspec": {
   "display_name": "Python 3",
   "language": "python",
   "name": "python3"
  },
  "language_info": {
   "codemirror_mode": {
    "name": "ipython",
    "version": 3
   },
   "file_extension": ".py",
   "mimetype": "text/x-python",
   "name": "python",
   "nbconvert_exporter": "python",
   "pygments_lexer": "ipython3",
   "version": "3.6.3"
  }
 },
 "nbformat": 4,
 "nbformat_minor": 4
}
